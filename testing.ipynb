{
 "cells": [
  {
   "cell_type": "code",
   "execution_count": 1,
   "metadata": {},
   "outputs": [],
   "source": [
    "from src.preprocessing.extraction import *"
   ]
  },
  {
   "cell_type": "code",
   "execution_count": null,
   "metadata": {},
   "outputs": [],
   "source": [
    "    loan_path = \"./data/loan.csv\"\n",
    "    payment_path = \"./data/payment.csv\"\n",
    "    underwriting_path = \"./data/clarity_underwriting_variables.csv\"\n",
    "    \n",
    "    # Load data\n",
    "    loan_df, payment_df, underwriting_df = load_data(loan_path, payment_path, underwriting_path)\n",
    "    \n",
    "    # Preprocess data\n",
    "    df = preprocess_data(loan_df, underwriting_df)\n",
    "    \n",
    "    # Classify loans\n",
    "    df = classify_loans(df)\n",
    "    \n",
    "    # Display the first few rows of the final DataFrame\n",
    "    print(df.head())"
   ]
  }
 ],
 "metadata": {
  "kernelspec": {
   "display_name": "ml_interview_env",
   "language": "python",
   "name": "ml_interview_env"
  },
  "language_info": {
   "codemirror_mode": {
    "name": "ipython",
    "version": 3
   },
   "file_extension": ".py",
   "mimetype": "text/x-python",
   "name": "python",
   "nbconvert_exporter": "python",
   "pygments_lexer": "ipython3",
   "version": "3.11.6"
  }
 },
 "nbformat": 4,
 "nbformat_minor": 2
}
